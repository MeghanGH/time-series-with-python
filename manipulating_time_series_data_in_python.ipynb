{
  "nbformat": 4,
  "nbformat_minor": 0,
  "metadata": {
    "colab": {
      "provenance": [],
      "authorship_tag": "ABX9TyM7B7ysAnby2BPlkpgZnDJn",
      "include_colab_link": true
    },
    "kernelspec": {
      "name": "python3",
      "display_name": "Python 3"
    },
    "language_info": {
      "name": "python"
    }
  },
  "cells": [
    {
      "cell_type": "markdown",
      "metadata": {
        "id": "view-in-github",
        "colab_type": "text"
      },
      "source": [
        "<a href=\"https://colab.research.google.com/github/MeghanGH/time-series-with-python/blob/main/manipulating_time_series_data_in_python.ipynb\" target=\"_parent\"><img src=\"https://colab.research.google.com/assets/colab-badge.svg\" alt=\"Open In Colab\"/></a>"
      ]
    },
    {
      "cell_type": "code",
      "execution_count": 1,
      "metadata": {
        "id": "yDidsUjHVkaZ"
      },
      "outputs": [],
      "source": [
        "import pandas as pd\n",
        "from datetime import datetime"
      ]
    },
    {
      "cell_type": "markdown",
      "source": [
        "# How to use dates & times with pandas\n"
      ],
      "metadata": {
        "id": "a6On19TcZJE9"
      }
    },
    {
      "cell_type": "code",
      "source": [
        "# Create the range of dates here\n",
        "seven_days = pd.date_range(start='2017-1-1', periods=7, freq='D')\n",
        "\n",
        "# Iterate over the dates and print the number and name of the weekday\n",
        "for day in seven_days:\n",
        "    print(day.dayofweek, day.day_name())"
      ],
      "metadata": {
        "colab": {
          "base_uri": "https://localhost:8080/"
        },
        "id": "cgCKA9jEWkQr",
        "outputId": "33d714d2-182d-4306-845c-0ee3f0d00084"
      },
      "execution_count": 2,
      "outputs": [
        {
          "output_type": "stream",
          "name": "stdout",
          "text": [
            "6 Sunday\n",
            "0 Monday\n",
            "1 Tuesday\n",
            "2 Wednesday\n",
            "3 Thursday\n",
            "4 Friday\n",
            "5 Saturday\n"
          ]
        }
      ]
    },
    {
      "cell_type": "markdown",
      "source": [
        "# Indexing & resampling time series\n"
      ],
      "metadata": {
        "id": "KkJb3m-7Y_4A"
      }
    },
    {
      "cell_type": "code",
      "source": [],
      "metadata": {
        "id": "exDovt73ZIOg"
      },
      "execution_count": null,
      "outputs": []
    }
  ]
}